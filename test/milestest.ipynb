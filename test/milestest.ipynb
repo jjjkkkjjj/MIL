{
 "cells": [
  {
   "cell_type": "code",
   "execution_count": 1,
   "metadata": {},
   "outputs": [],
   "source": [
    "import sys, os\n",
    "sys.path.append(os.path.realpath('..'))\n",
    "from MIL.miles import MILES\n",
    "from sklearn import model_selection, metrics\n",
    "import numpy as np\n",
    "from MIL.loadmusk import loadmusk"
   ]
  },
  {
   "cell_type": "code",
   "execution_count": 2,
   "metadata": {},
   "outputs": [],
   "source": [
    "bags, labels = loadmusk('../MIL')"
   ]
  },
  {
   "cell_type": "code",
   "execution_count": 3,
   "metadata": {},
   "outputs": [],
   "source": [
    "miles = MILES(negative=0, gamma=1.0/500000, similarity='rbf', lamb=0.45, mu=0.5)\n",
    "# score function for cross validation\n",
    "def my_scorer(estimator, x, y):\n",
    "    y = np.array(y, dtype=int)\n",
    "    y[y == 0] = -1\n",
    "    yPred = np.sign(estimator.predict(x, False))\n",
    "    a = np.average(y.T == yPred)\n",
    "    return a"
   ]
  },
  {
   "cell_type": "code",
   "execution_count": 4,
   "metadata": {},
   "outputs": [
    {
     "name": "stdout",
     "output_type": "stream",
     "text": [
      "     pcost       dcost       gap    pres   dres   k/t\n",
      " 0:  2.0789e+00  7.8518e+01  2e+03  5e+00  7e+00  1e+00\n",
      " 1:  8.7458e+00  2.4624e+01  1e+02  8e-01  1e+00  2e+00\n",
      " 2:  1.2909e+01  1.8087e+01  3e+01  3e-01  4e-01  9e-01\n",
      " 3:  1.3745e+01  1.6720e+01  2e+01  2e-01  2e-01  4e-01\n",
      " 4:  1.4313e+01  1.5876e+01  1e+01  8e-02  1e-01  2e-01\n",
      " 5:  1.4559e+01  1.4959e+01  3e+00  2e-02  4e-02  6e-03\n",
      " 6:  1.4618e+01  1.4780e+01  1e+00  1e-02  2e-02  2e-03\n",
      " 7:  1.4633e+01  1.4671e+01  3e-01  2e-03  4e-03  4e-04\n",
      " 8:  1.4637e+01  1.4648e+01  8e-02  7e-04  1e-03  1e-04\n",
      " 9:  1.4637e+01  1.4641e+01  2e-02  2e-04  3e-04  3e-05\n",
      "10:  1.4637e+01  1.4638e+01  4e-03  4e-05  6e-05  5e-06\n",
      "11:  1.4637e+01  1.4638e+01  3e-03  2e-05  4e-05  3e-06\n",
      "12:  1.4637e+01  1.4637e+01  1e-04  1e-06  2e-06  2e-07\n",
      "13:  1.4637e+01  1.4637e+01  2e-06  1e-08  2e-08  2e-09\n",
      "Optimal solution found.\n",
      "     pcost       dcost       gap    pres   dres   k/t\n",
      " 0:  1.7709e+00  7.9262e+01  2e+03  5e+00  8e+00  1e+00\n",
      " 1:  7.4745e+00  2.2889e+01  1e+02  8e-01  1e+00  3e+00\n",
      " 2:  1.1723e+01  1.6583e+01  3e+01  2e-01  4e-01  9e-01\n",
      " 3:  1.3288e+01  1.5618e+01  1e+01  1e-01  2e-01  4e-01\n",
      " 4:  1.3588e+01  1.4567e+01  7e+00  6e-02  9e-02  5e-02\n",
      " 5:  1.3840e+01  1.4161e+01  2e+00  2e-02  3e-02  1e-02\n",
      " 6:  1.3867e+01  1.4011e+01  1e+00  8e-03  1e-02  4e-03\n",
      " 7:  1.3884e+01  1.3937e+01  4e-01  3e-03  5e-03  7e-04\n",
      " 8:  1.3890e+01  1.3904e+01  1e-01  8e-04  1e-03  2e-04\n",
      " 9:  1.3892e+01  1.3899e+01  5e-02  5e-04  8e-04  9e-05\n",
      "10:  1.3892e+01  1.3894e+01  1e-02  1e-04  2e-04  1e-05\n",
      "11:  1.3892e+01  1.3892e+01  7e-04  6e-06  1e-05  8e-07\n",
      "12:  1.3892e+01  1.3892e+01  7e-06  6e-08  1e-07  8e-09\n",
      "13:  1.3892e+01  1.3892e+01  7e-08  6e-10  1e-09  8e-11\n",
      "Optimal solution found.\n",
      "     pcost       dcost       gap    pres   dres   k/t\n",
      " 0:  2.2455e+00  8.0488e+01  2e+03  5e+00  7e+00  1e+00\n",
      " 1:  8.4035e+00  2.8769e+01  2e+02  1e+00  2e+00  2e+00\n",
      " 2:  1.2505e+01  1.6922e+01  3e+01  2e-01  3e-01  8e-01\n",
      " 3:  1.4492e+01  1.6195e+01  1e+01  9e-02  1e-01  2e-01\n",
      " 4:  1.4805e+01  1.5643e+01  5e+00  5e-02  7e-02  1e-01\n",
      " 5:  1.4810e+01  1.5299e+01  3e+00  3e-02  4e-02  4e-02\n",
      " 6:  1.4904e+01  1.5063e+01  1e+00  9e-03  1e-02  1e-02\n",
      " 7:  1.4929e+01  1.4996e+01  5e-01  4e-03  6e-03  3e-03\n",
      " 8:  1.4939e+01  1.4963e+01  2e-01  1e-03  2e-03  8e-04\n",
      " 9:  1.4941e+01  1.4948e+01  5e-02  5e-04  7e-04  2e-04\n",
      "10:  1.4941e+01  1.4944e+01  2e-02  2e-04  3e-04  8e-05\n",
      "11:  1.4941e+01  1.4942e+01  8e-03  7e-05  1e-04  3e-05\n",
      "12:  1.4941e+01  1.4942e+01  4e-03  3e-05  5e-05  8e-06\n",
      "13:  1.4941e+01  1.4941e+01  1e-03  8e-06  1e-05  2e-06\n",
      "14:  1.4941e+01  1.4941e+01  1e-05  1e-07  2e-07  2e-08\n",
      "15:  1.4941e+01  1.4941e+01  1e-07  1e-09  2e-09  2e-10\n",
      "Optimal solution found.\n",
      "     pcost       dcost       gap    pres   dres   k/t\n",
      " 0:  2.4490e+00  7.8735e+01  2e+03  5e+00  8e+00  1e+00\n",
      " 1:  9.6840e+00  2.8764e+01  2e+02  1e+00  2e+00  2e+00\n",
      " 2:  1.3165e+01  1.9908e+01  5e+01  4e-01  6e-01  1e+00\n",
      " 3:  1.5198e+01  1.7618e+01  2e+01  1e-01  2e-01  3e-01\n",
      " 4:  1.5272e+01  1.6888e+01  1e+01  9e-02  2e-01  1e-01\n",
      " 5:  1.5639e+01  1.6166e+01  4e+00  3e-02  5e-02  3e-02\n",
      " 6:  1.5719e+01  1.5941e+01  2e+00  1e-02  2e-02  1e-02\n",
      " 7:  1.5719e+01  1.5922e+01  2e+00  1e-02  2e-02  8e-03\n",
      " 8:  1.5742e+01  1.5785e+01  3e-01  3e-03  4e-03  1e-03\n",
      " 9:  1.5748e+01  1.5753e+01  4e-02  4e-04  6e-04  1e-04\n",
      "10:  1.5748e+01  1.5749e+01  6e-03  5e-05  8e-05  1e-05\n",
      "11:  1.5748e+01  1.5748e+01  1e-04  1e-06  2e-06  3e-07\n",
      "12:  1.5748e+01  1.5748e+01  1e-06  1e-08  2e-08  3e-09\n",
      "Optimal solution found.\n",
      "     pcost       dcost       gap    pres   dres   k/t\n",
      " 0:  2.0222e+00  7.9197e+01  2e+03  5e+00  1e+01  1e+00\n",
      " 1:  8.0052e+00  2.5616e+01  2e+02  9e-01  2e+00  2e+00\n",
      " 2:  1.1558e+01  1.7858e+01  4e+01  3e-01  7e-01  1e+00\n",
      " 3:  1.3573e+01  1.5772e+01  1e+01  1e-01  2e-01  3e-01\n",
      " 4:  1.3706e+01  1.5017e+01  9e+00  7e-02  1e-01  1e-01\n",
      " 5:  1.3965e+01  1.4371e+01  3e+00  2e-02  5e-02  3e-02\n",
      " 6:  1.4018e+01  1.4229e+01  1e+00  1e-02  3e-02  9e-03\n",
      " 7:  1.4035e+01  1.4106e+01  5e-01  4e-03  9e-03  2e-03\n",
      " 8:  1.4039e+01  1.4073e+01  2e-01  2e-03  4e-03  5e-04\n",
      " 9:  1.4040e+01  1.4053e+01  9e-02  8e-04  2e-03  2e-04\n",
      "10:  1.4041e+01  1.4047e+01  4e-02  4e-04  7e-04  9e-05\n",
      "11:  1.4041e+01  1.4043e+01  1e-02  1e-04  2e-04  2e-05\n",
      "12:  1.4041e+01  1.4041e+01  3e-04  2e-06  5e-06  4e-07\n",
      "13:  1.4041e+01  1.4041e+01  3e-06  2e-08  5e-08  4e-09\n",
      "Optimal solution found.\n",
      "Accuracy: 0.81 (+/- 0.09)\n"
     ]
    }
   ],
   "source": [
    "scores = model_selection.cross_val_score(miles, bags, labels, scoring=my_scorer, cv=5) # label's shape is required for (a,) instead of (a, 1)\n",
    "print(\"Accuracy: %0.2f (+/- %0.2f)\" % (scores.mean(), scores.std() * 2))"
   ]
  }
 ],
 "metadata": {
  "kernelspec": {
   "display_name": "Python 3",
   "language": "python",
   "name": "python3"
  },
  "language_info": {
   "codemirror_mode": {
    "name": "ipython",
    "version": 3
   },
   "file_extension": ".py",
   "mimetype": "text/x-python",
   "name": "python",
   "nbconvert_exporter": "python",
   "pygments_lexer": "ipython3",
   "version": "3.5.5"
  }
 },
 "nbformat": 4,
 "nbformat_minor": 1
}
